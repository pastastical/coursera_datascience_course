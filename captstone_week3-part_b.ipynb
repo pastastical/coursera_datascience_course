{
 "cells": [
  {
   "cell_type": "markdown",
   "metadata": {},
   "source": [
    "## Week Three Capstone Assignment part B"
   ]
  },
  {
   "cell_type": "code",
   "execution_count": 1,
   "metadata": {},
   "outputs": [],
   "source": [
    "## imports\n",
    "%reset -f\n",
    "import requests\n",
    "from bs4 import BeautifulSoup as bs\n",
    "import pandas as pd\n",
    "import numpy as np\n",
    "from lxml import etree"
   ]
  },
  {
   "cell_type": "markdown",
   "metadata": {},
   "source": [
    "## Condensed Notebook cells from part A"
   ]
  },
  {
   "cell_type": "code",
   "execution_count": 2,
   "metadata": {},
   "outputs": [],
   "source": [
    "## collect data from url\n",
    "url = \"https://en.wikipedia.org/wiki/List_of_postal_codes_of_Canada:_M\"\n",
    "r = requests.get(url)\n",
    "## parse url with beautiful soup\n",
    "html_code = r.content\n",
    "soup = bs(html_code,'html.parser')\n",
    "## select table code from parsed code\n",
    "table = soup.select(\"table\")[0]\n",
    "## create dataframe\n",
    "df = pd.DataFrame(pd.read_html(str(table))[0])\n",
    "## drop rows which have Not assigned in the borough column\n",
    "df = df[df['Borough'] != 'Not assigned']\n",
    "## replace / with ,\n",
    "df['Neighborhood'] = df['Neighborhood'].str.replace('/',',')\n",
    "## Replace neighborhood nan with borough\n",
    "df['Neighborhood'].fillna(df['Borough'],inplace=True)\n",
    "df = df.reset_index(drop=True)"
   ]
  },
  {
   "cell_type": "markdown",
   "metadata": {},
   "source": [
    "## Start Part B"
   ]
  },
  {
   "cell_type": "code",
   "execution_count": 4,
   "metadata": {},
   "outputs": [],
   "source": [
    "#! conda install -c conda-forge geocoder -y"
   ]
  },
  {
   "cell_type": "code",
   "execution_count": 3,
   "metadata": {},
   "outputs": [
    {
     "data": {
      "text/plain": [
       "Index(['Postal code', 'Borough', 'Neighborhood', 'Latitude', 'Longitude'], dtype='object')"
      ]
     },
     "execution_count": 3,
     "metadata": {},
     "output_type": "execute_result"
    }
   ],
   "source": [
    "## initialize new columns\n",
    "df['Latitude'] = \"\"\n",
    "df['Longitude'] = \"\"\n",
    "df.columns"
   ]
  },
  {
   "cell_type": "markdown",
   "metadata": {},
   "source": [
    "install geocoder package from anaconda"
   ]
  },
  {
   "cell_type": "markdown",
   "metadata": {},
   "source": [
    "Change Sample code from assignment to a function to retrieve lat and long with a buggy package."
   ]
  },
  {
   "cell_type": "code",
   "execution_count": 5,
   "metadata": {
    "scrolled": false
   },
   "outputs": [],
   "source": [
    "# import geocoder # import geocoder\n",
    "\n",
    "# def get_coord(postal_code):\n",
    "#     # initialize your variable to None\n",
    "#     lat_lng_coords = None\n",
    "#     # loop until you get the coordinates\n",
    "#     while(lat_lng_coords is None):\n",
    "#       g = geocoder.google('{}, Toronto, Ontario'.format(postal_code))\n",
    "#       lat_lng_coords = g.latlng\n",
    "#     return lat_lng_coords\n",
    "# for index,row in df.iterrows():\n",
    "#     postalcode = row[0]\n",
    "#     lat,long = get_coord(postalcode)\n",
    "#     row[-1] = long\n",
    "#     row[-2] = lat\n",
    "#     print(row)"
   ]
  },
  {
   "cell_type": "markdown",
   "metadata": {},
   "source": [
    "Fill in df lat and long"
   ]
  },
  {
   "cell_type": "markdown",
   "metadata": {},
   "source": [
    "geocoder didn't work so i had to download the csv file"
   ]
  },
  {
   "cell_type": "code",
   "execution_count": 41,
   "metadata": {},
   "outputs": [],
   "source": [
    "## read the csv, find matching postal codes and fill in the latitude and longitude\n",
    "with open('./Geospatial_Coordinates.csv','r') as f:                     # open the csv file\n",
    "    for line in f.readlines():                                          # for every line in the csv file\n",
    "        postalcode, lat, lon = line.split(',')                          # split the line at every , and place into postal, lat, long\n",
    "        df.loc[df['Postal code'] == postalcode, 'Latitude'] = lat       # every row with a matching postal code fill in latitude\n",
    "        df.loc[df['Postal code']==postalcode, 'Longitude']= lon         # every row with a matching postal code fill in the longitude"
   ]
  },
  {
   "cell_type": "markdown",
   "metadata": {},
   "source": [
    "Final Dataframe"
   ]
  },
  {
   "cell_type": "code",
   "execution_count": 42,
   "metadata": {},
   "outputs": [
    {
     "data": {
      "text/html": [
       "<div>\n",
       "<style scoped>\n",
       "    .dataframe tbody tr th:only-of-type {\n",
       "        vertical-align: middle;\n",
       "    }\n",
       "\n",
       "    .dataframe tbody tr th {\n",
       "        vertical-align: top;\n",
       "    }\n",
       "\n",
       "    .dataframe thead th {\n",
       "        text-align: right;\n",
       "    }\n",
       "</style>\n",
       "<table border=\"1\" class=\"dataframe\">\n",
       "  <thead>\n",
       "    <tr style=\"text-align: right;\">\n",
       "      <th></th>\n",
       "      <th>Postal code</th>\n",
       "      <th>Borough</th>\n",
       "      <th>Neighborhood</th>\n",
       "      <th>Latitude</th>\n",
       "      <th>Longitude</th>\n",
       "    </tr>\n",
       "  </thead>\n",
       "  <tbody>\n",
       "    <tr>\n",
       "      <th>0</th>\n",
       "      <td>M3A</td>\n",
       "      <td>North York</td>\n",
       "      <td>Parkwoods</td>\n",
       "      <td>43.7532586</td>\n",
       "      <td>-79.3296565\\n</td>\n",
       "    </tr>\n",
       "    <tr>\n",
       "      <th>1</th>\n",
       "      <td>M4A</td>\n",
       "      <td>North York</td>\n",
       "      <td>Victoria Village</td>\n",
       "      <td>43.7258823</td>\n",
       "      <td>-79.3155716\\n</td>\n",
       "    </tr>\n",
       "    <tr>\n",
       "      <th>2</th>\n",
       "      <td>M5A</td>\n",
       "      <td>Downtown Toronto</td>\n",
       "      <td>Regent Park , Harbourfront</td>\n",
       "      <td>43.6542599</td>\n",
       "      <td>-79.3606359\\n</td>\n",
       "    </tr>\n",
       "    <tr>\n",
       "      <th>3</th>\n",
       "      <td>M6A</td>\n",
       "      <td>North York</td>\n",
       "      <td>Lawrence Manor , Lawrence Heights</td>\n",
       "      <td>43.718518</td>\n",
       "      <td>-79.4647633\\n</td>\n",
       "    </tr>\n",
       "    <tr>\n",
       "      <th>4</th>\n",
       "      <td>M7A</td>\n",
       "      <td>Downtown Toronto</td>\n",
       "      <td>Queen's Park , Ontario Provincial Government</td>\n",
       "      <td>43.6623015</td>\n",
       "      <td>-79.3894938\\n</td>\n",
       "    </tr>\n",
       "    <tr>\n",
       "      <th>...</th>\n",
       "      <td>...</td>\n",
       "      <td>...</td>\n",
       "      <td>...</td>\n",
       "      <td>...</td>\n",
       "      <td>...</td>\n",
       "    </tr>\n",
       "    <tr>\n",
       "      <th>98</th>\n",
       "      <td>M8X</td>\n",
       "      <td>Etobicoke</td>\n",
       "      <td>The Kingsway , Montgomery Road , Old Mill North</td>\n",
       "      <td>43.6536536</td>\n",
       "      <td>-79.5069436\\n</td>\n",
       "    </tr>\n",
       "    <tr>\n",
       "      <th>99</th>\n",
       "      <td>M4Y</td>\n",
       "      <td>Downtown Toronto</td>\n",
       "      <td>Church and Wellesley</td>\n",
       "      <td>43.6658599</td>\n",
       "      <td>-79.3831599\\n</td>\n",
       "    </tr>\n",
       "    <tr>\n",
       "      <th>100</th>\n",
       "      <td>M7Y</td>\n",
       "      <td>East Toronto</td>\n",
       "      <td>Business reply mail Processing CentrE</td>\n",
       "      <td>43.6627439</td>\n",
       "      <td>-79.321558\\n</td>\n",
       "    </tr>\n",
       "    <tr>\n",
       "      <th>101</th>\n",
       "      <td>M8Y</td>\n",
       "      <td>Etobicoke</td>\n",
       "      <td>Old Mill South , King's Mill Park , Sunnylea ,...</td>\n",
       "      <td>43.6362579</td>\n",
       "      <td>-79.4985091\\n</td>\n",
       "    </tr>\n",
       "    <tr>\n",
       "      <th>102</th>\n",
       "      <td>M8Z</td>\n",
       "      <td>Etobicoke</td>\n",
       "      <td>Mimico NW , The Queensway West , South of Bloo...</td>\n",
       "      <td>43.6288408</td>\n",
       "      <td>-79.5209994\\n</td>\n",
       "    </tr>\n",
       "  </tbody>\n",
       "</table>\n",
       "<p>103 rows × 5 columns</p>\n",
       "</div>"
      ],
      "text/plain": [
       "    Postal code           Borough  \\\n",
       "0           M3A        North York   \n",
       "1           M4A        North York   \n",
       "2           M5A  Downtown Toronto   \n",
       "3           M6A        North York   \n",
       "4           M7A  Downtown Toronto   \n",
       "..          ...               ...   \n",
       "98          M8X         Etobicoke   \n",
       "99          M4Y  Downtown Toronto   \n",
       "100         M7Y      East Toronto   \n",
       "101         M8Y         Etobicoke   \n",
       "102         M8Z         Etobicoke   \n",
       "\n",
       "                                          Neighborhood    Latitude  \\\n",
       "0                                            Parkwoods  43.7532586   \n",
       "1                                     Victoria Village  43.7258823   \n",
       "2                           Regent Park , Harbourfront  43.6542599   \n",
       "3                    Lawrence Manor , Lawrence Heights   43.718518   \n",
       "4         Queen's Park , Ontario Provincial Government  43.6623015   \n",
       "..                                                 ...         ...   \n",
       "98     The Kingsway , Montgomery Road , Old Mill North  43.6536536   \n",
       "99                                Church and Wellesley  43.6658599   \n",
       "100              Business reply mail Processing CentrE  43.6627439   \n",
       "101  Old Mill South , King's Mill Park , Sunnylea ,...  43.6362579   \n",
       "102  Mimico NW , The Queensway West , South of Bloo...  43.6288408   \n",
       "\n",
       "         Longitude  \n",
       "0    -79.3296565\\n  \n",
       "1    -79.3155716\\n  \n",
       "2    -79.3606359\\n  \n",
       "3    -79.4647633\\n  \n",
       "4    -79.3894938\\n  \n",
       "..             ...  \n",
       "98   -79.5069436\\n  \n",
       "99   -79.3831599\\n  \n",
       "100   -79.321558\\n  \n",
       "101  -79.4985091\\n  \n",
       "102  -79.5209994\\n  \n",
       "\n",
       "[103 rows x 5 columns]"
      ]
     },
     "execution_count": 42,
     "metadata": {},
     "output_type": "execute_result"
    }
   ],
   "source": [
    "df"
   ]
  }
 ],
 "metadata": {
  "kernelspec": {
   "display_name": "Python 3",
   "language": "python",
   "name": "python3"
  },
  "language_info": {
   "codemirror_mode": {
    "name": "ipython",
    "version": 3
   },
   "file_extension": ".py",
   "mimetype": "text/x-python",
   "name": "python",
   "nbconvert_exporter": "python",
   "pygments_lexer": "ipython3",
   "version": "3.7.6"
  }
 },
 "nbformat": 4,
 "nbformat_minor": 4
}
